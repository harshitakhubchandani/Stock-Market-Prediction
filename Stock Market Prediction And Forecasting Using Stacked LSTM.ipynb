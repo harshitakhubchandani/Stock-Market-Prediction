{
 "cells": [
  {
   "cell_type": "code",
   "execution_count": 10,
   "id": "6bdeee58",
   "metadata": {},
   "outputs": [],
   "source": [
    "# Importing the libraries\n",
    "import numpy as np\n",
    "import pandas as pd\n",
    "import matplotlib.pyplot as ply"
   ]
  },
  {
   "cell_type": "code",
   "execution_count": 11,
   "id": "8d7fdad6",
   "metadata": {},
   "outputs": [],
   "source": [
    "# Importing the data set\n",
    "df = pd.read_csv('NSE-TATAGLOBAL.csv')"
   ]
  },
  {
   "cell_type": "code",
   "execution_count": 12,
   "id": "1bdd8bd4",
   "metadata": {},
   "outputs": [
    {
     "data": {
      "text/html": [
       "<div>\n",
       "<style scoped>\n",
       "    .dataframe tbody tr th:only-of-type {\n",
       "        vertical-align: middle;\n",
       "    }\n",
       "\n",
       "    .dataframe tbody tr th {\n",
       "        vertical-align: top;\n",
       "    }\n",
       "\n",
       "    .dataframe thead th {\n",
       "        text-align: right;\n",
       "    }\n",
       "</style>\n",
       "<table border=\"1\" class=\"dataframe\">\n",
       "  <thead>\n",
       "    <tr style=\"text-align: right;\">\n",
       "      <th></th>\n",
       "      <th>Date</th>\n",
       "      <th>Open</th>\n",
       "      <th>High</th>\n",
       "      <th>Low</th>\n",
       "      <th>Last</th>\n",
       "      <th>Close</th>\n",
       "      <th>Total Trade Quantity</th>\n",
       "      <th>Turnover (Lacs)</th>\n",
       "    </tr>\n",
       "  </thead>\n",
       "  <tbody>\n",
       "    <tr>\n",
       "      <th>0</th>\n",
       "      <td>2018-09-28</td>\n",
       "      <td>234.05</td>\n",
       "      <td>235.95</td>\n",
       "      <td>230.20</td>\n",
       "      <td>233.50</td>\n",
       "      <td>233.75</td>\n",
       "      <td>3069914</td>\n",
       "      <td>7162.35</td>\n",
       "    </tr>\n",
       "    <tr>\n",
       "      <th>1</th>\n",
       "      <td>2018-09-27</td>\n",
       "      <td>234.55</td>\n",
       "      <td>236.80</td>\n",
       "      <td>231.10</td>\n",
       "      <td>233.80</td>\n",
       "      <td>233.25</td>\n",
       "      <td>5082859</td>\n",
       "      <td>11859.95</td>\n",
       "    </tr>\n",
       "    <tr>\n",
       "      <th>2</th>\n",
       "      <td>2018-09-26</td>\n",
       "      <td>240.00</td>\n",
       "      <td>240.00</td>\n",
       "      <td>232.50</td>\n",
       "      <td>235.00</td>\n",
       "      <td>234.25</td>\n",
       "      <td>2240909</td>\n",
       "      <td>5248.60</td>\n",
       "    </tr>\n",
       "    <tr>\n",
       "      <th>3</th>\n",
       "      <td>2018-09-25</td>\n",
       "      <td>233.30</td>\n",
       "      <td>236.75</td>\n",
       "      <td>232.00</td>\n",
       "      <td>236.25</td>\n",
       "      <td>236.10</td>\n",
       "      <td>2349368</td>\n",
       "      <td>5503.90</td>\n",
       "    </tr>\n",
       "    <tr>\n",
       "      <th>4</th>\n",
       "      <td>2018-09-24</td>\n",
       "      <td>233.55</td>\n",
       "      <td>239.20</td>\n",
       "      <td>230.75</td>\n",
       "      <td>234.00</td>\n",
       "      <td>233.30</td>\n",
       "      <td>3423509</td>\n",
       "      <td>7999.55</td>\n",
       "    </tr>\n",
       "  </tbody>\n",
       "</table>\n",
       "</div>"
      ],
      "text/plain": [
       "         Date    Open    High     Low    Last   Close  Total Trade Quantity  \\\n",
       "0  2018-09-28  234.05  235.95  230.20  233.50  233.75               3069914   \n",
       "1  2018-09-27  234.55  236.80  231.10  233.80  233.25               5082859   \n",
       "2  2018-09-26  240.00  240.00  232.50  235.00  234.25               2240909   \n",
       "3  2018-09-25  233.30  236.75  232.00  236.25  236.10               2349368   \n",
       "4  2018-09-24  233.55  239.20  230.75  234.00  233.30               3423509   \n",
       "\n",
       "   Turnover (Lacs)  \n",
       "0          7162.35  \n",
       "1         11859.95  \n",
       "2          5248.60  \n",
       "3          5503.90  \n",
       "4          7999.55  "
      ]
     },
     "execution_count": 12,
     "metadata": {},
     "output_type": "execute_result"
    }
   ],
   "source": [
    "df.head()"
   ]
  },
  {
   "cell_type": "code",
   "execution_count": 13,
   "id": "e8c90a17",
   "metadata": {},
   "outputs": [],
   "source": [
    "df_1 = df.iloc[:,1:2].values"
   ]
  },
  {
   "cell_type": "code",
   "execution_count": 14,
   "id": "9f78c90b",
   "metadata": {},
   "outputs": [
    {
     "data": {
      "text/plain": [
       "array([[234.05],\n",
       "       [234.55],\n",
       "       [240.  ],\n",
       "       ...,\n",
       "       [121.8 ],\n",
       "       [120.3 ],\n",
       "       [122.1 ]])"
      ]
     },
     "execution_count": 14,
     "metadata": {},
     "output_type": "execute_result"
    }
   ],
   "source": [
    "df_1"
   ]
  },
  {
   "cell_type": "code",
   "execution_count": 15,
   "id": "3a5198b5",
   "metadata": {},
   "outputs": [],
   "source": [
    "#splitting dataset into train and test split\n",
    "training_size = int(len(df_1)*0.65)\n",
    "test_size = len(df_1)-training_size\n",
    "train_data,test_data = df_1[0:training_size],df_1[training_size:len(df_1)]"
   ]
  },
  {
   "cell_type": "code",
   "execution_count": 16,
   "id": "64a4c64c",
   "metadata": {},
   "outputs": [
    {
     "data": {
      "text/plain": [
       "(1322, 713)"
      ]
     },
     "execution_count": 16,
     "metadata": {},
     "output_type": "execute_result"
    }
   ],
   "source": [
    "training_size,test_size"
   ]
  },
  {
   "cell_type": "code",
   "execution_count": 17,
   "id": "3dafec31",
   "metadata": {},
   "outputs": [],
   "source": [
    "# Feature Scaling\n",
    "from sklearn.preprocessing import MinMaxScaler\n",
    "sc = MinMaxScaler(feature_range = (0, 1))\n",
    "training_set_scaled = sc.fit_transform(train_data)"
   ]
  },
  {
   "cell_type": "code",
   "execution_count": 18,
   "id": "f63f5a1a",
   "metadata": {},
   "outputs": [],
   "source": [
    "# Creating a data structure with 60 timesteps and 1 output\n",
    "X_train = []\n",
    "y_train = []\n",
    "for i in range(60, training_size):\n",
    "    X_train.append(training_set_scaled[i-60:i, 0])\n",
    "    y_train.append(training_set_scaled[i, 0])\n",
    "X_train, y_train = np.array(X_train), np.array(y_train)\n",
    "\n",
    "# Reshaping\n",
    "X_train = np.reshape(X_train, (X_train.shape[0], X_train.shape[1], 1))"
   ]
  },
  {
   "cell_type": "code",
   "execution_count": 19,
   "id": "ca439fc0",
   "metadata": {},
   "outputs": [],
   "source": [
    "# Importing the Keras libraries and packages\n",
    "from keras.models import Sequential\n",
    "from keras.layers import Dense\n",
    "from keras.layers import LSTM\n",
    "from keras.layers import Dropout"
   ]
  },
  {
   "cell_type": "code",
   "execution_count": 20,
   "id": "bbb634c1",
   "metadata": {},
   "outputs": [
    {
     "name": "stdout",
     "output_type": "stream",
     "text": [
      "Epoch 1/100\n",
      "40/40 [==============================] - 12s 109ms/step - loss: 0.0180\n",
      "Epoch 2/100\n",
      "40/40 [==============================] - 4s 106ms/step - loss: 0.0036\n",
      "Epoch 3/100\n",
      "40/40 [==============================] - 4s 108ms/step - loss: 0.0045\n",
      "Epoch 4/100\n",
      "40/40 [==============================] - 4s 108ms/step - loss: 0.0035\n",
      "Epoch 5/100\n",
      "40/40 [==============================] - 4s 104ms/step - loss: 0.0033\n",
      "Epoch 6/100\n",
      "40/40 [==============================] - 4s 103ms/step - loss: 0.0030 1s - \n",
      "Epoch 7/100\n",
      "40/40 [==============================] - 4s 106ms/step - loss: 0.0033\n",
      "Epoch 8/100\n",
      "40/40 [==============================] - 4s 104ms/step - loss: 0.0032\n",
      "Epoch 9/100\n",
      "40/40 [==============================] - 4s 107ms/step - loss: 0.0029\n",
      "Epoch 10/100\n",
      "40/40 [==============================] - 4s 107ms/step - loss: 0.0027\n",
      "Epoch 11/100\n",
      "40/40 [==============================] - 4s 109ms/step - loss: 0.0032\n",
      "Epoch 12/100\n",
      "40/40 [==============================] - 5s 135ms/step - loss: 0.0026\n",
      "Epoch 13/100\n",
      "40/40 [==============================] - 5s 116ms/step - loss: 0.0025\n",
      "Epoch 14/100\n",
      "40/40 [==============================] - 4s 108ms/step - loss: 0.0023\n",
      "Epoch 15/100\n",
      "40/40 [==============================] - 4s 109ms/step - loss: 0.0028\n",
      "Epoch 16/100\n",
      "40/40 [==============================] - 4s 111ms/step - loss: 0.0024\n",
      "Epoch 17/100\n",
      "40/40 [==============================] - 4s 107ms/step - loss: 0.0029\n",
      "Epoch 18/100\n",
      "40/40 [==============================] - 4s 107ms/step - loss: 0.0025\n",
      "Epoch 19/100\n",
      "40/40 [==============================] - 4s 107ms/step - loss: 0.0026\n",
      "Epoch 20/100\n",
      "40/40 [==============================] - 4s 112ms/step - loss: 0.0023\n",
      "Epoch 21/100\n",
      "40/40 [==============================] - 5s 114ms/step - loss: 0.0023\n",
      "Epoch 22/100\n",
      "40/40 [==============================] - 4s 112ms/step - loss: 0.0017\n",
      "Epoch 23/100\n",
      "40/40 [==============================] - 5s 125ms/step - loss: 0.0019\n",
      "Epoch 24/100\n",
      "40/40 [==============================] - 5s 114ms/step - loss: 0.0021\n",
      "Epoch 25/100\n",
      "40/40 [==============================] - 4s 109ms/step - loss: 0.0019\n",
      "Epoch 26/100\n",
      "40/40 [==============================] - 4s 109ms/step - loss: 0.0019\n",
      "Epoch 27/100\n",
      "40/40 [==============================] - 4s 109ms/step - loss: 0.0018\n",
      "Epoch 28/100\n",
      "40/40 [==============================] - 5s 117ms/step - loss: 0.0016\n",
      "Epoch 29/100\n",
      "40/40 [==============================] - 5s 114ms/step - loss: 0.0023\n",
      "Epoch 30/100\n",
      "40/40 [==============================] - 5s 114ms/step - loss: 0.0018\n",
      "Epoch 31/100\n",
      "40/40 [==============================] - 5s 117ms/step - loss: 0.0018\n",
      "Epoch 32/100\n",
      "40/40 [==============================] - 4s 112ms/step - loss: 0.0019\n",
      "Epoch 33/100\n",
      "40/40 [==============================] - 5s 116ms/step - loss: 0.0017\n",
      "Epoch 34/100\n",
      "40/40 [==============================] - 4s 110ms/step - loss: 0.0018\n",
      "Epoch 35/100\n",
      "40/40 [==============================] - 5s 119ms/step - loss: 0.0019\n",
      "Epoch 36/100\n",
      "40/40 [==============================] - 5s 127ms/step - loss: 0.0016\n",
      "Epoch 37/100\n",
      "40/40 [==============================] - 5s 126ms/step - loss: 0.0017\n",
      "Epoch 38/100\n",
      "40/40 [==============================] - 5s 127ms/step - loss: 0.0016\n",
      "Epoch 39/100\n",
      "40/40 [==============================] - 5s 126ms/step - loss: 0.0017\n",
      "Epoch 40/100\n",
      "40/40 [==============================] - 5s 125ms/step - loss: 0.0014\n",
      "Epoch 41/100\n",
      "40/40 [==============================] - 5s 120ms/step - loss: 0.0015\n",
      "Epoch 42/100\n",
      "40/40 [==============================] - 5s 126ms/step - loss: 0.0015\n",
      "Epoch 43/100\n",
      "40/40 [==============================] - 5s 127ms/step - loss: 0.0014\n",
      "Epoch 44/100\n",
      "40/40 [==============================] - 5s 126ms/step - loss: 0.0015\n",
      "Epoch 45/100\n",
      "40/40 [==============================] - 5s 127ms/step - loss: 0.0015\n",
      "Epoch 46/100\n",
      "40/40 [==============================] - 5s 127ms/step - loss: 0.0013\n",
      "Epoch 47/100\n",
      "40/40 [==============================] - 5s 127ms/step - loss: 0.0016\n",
      "Epoch 48/100\n",
      "40/40 [==============================] - 5s 129ms/step - loss: 0.0013\n",
      "Epoch 49/100\n",
      "40/40 [==============================] - 5s 126ms/step - loss: 0.0014\n",
      "Epoch 50/100\n",
      "40/40 [==============================] - 5s 126ms/step - loss: 0.0013\n",
      "Epoch 51/100\n",
      "40/40 [==============================] - 5s 126ms/step - loss: 0.0014\n",
      "Epoch 52/100\n",
      "40/40 [==============================] - 5s 127ms/step - loss: 0.0013\n",
      "Epoch 53/100\n",
      "40/40 [==============================] - 5s 126ms/step - loss: 0.0012\n",
      "Epoch 54/100\n",
      "40/40 [==============================] - 5s 126ms/step - loss: 0.0012\n",
      "Epoch 55/100\n",
      "40/40 [==============================] - 5s 122ms/step - loss: 0.0013\n",
      "Epoch 56/100\n",
      "40/40 [==============================] - 5s 117ms/step - loss: 0.0015\n",
      "Epoch 57/100\n",
      "40/40 [==============================] - 5s 115ms/step - loss: 0.0011\n",
      "Epoch 58/100\n",
      "40/40 [==============================] - 5s 126ms/step - loss: 0.0012\n",
      "Epoch 59/100\n",
      "40/40 [==============================] - 5s 113ms/step - loss: 9.8068e-04\n",
      "Epoch 60/100\n",
      "40/40 [==============================] - 5s 125ms/step - loss: 0.0010\n",
      "Epoch 61/100\n",
      "40/40 [==============================] - 5s 126ms/step - loss: 0.0011\n",
      "Epoch 62/100\n",
      "40/40 [==============================] - 5s 127ms/step - loss: 0.0011\n",
      "Epoch 63/100\n",
      "40/40 [==============================] - 4s 109ms/step - loss: 0.0012\n",
      "Epoch 64/100\n",
      "40/40 [==============================] - 5s 122ms/step - loss: 0.0011\n",
      "Epoch 65/100\n",
      "40/40 [==============================] - 5s 124ms/step - loss: 0.0015\n",
      "Epoch 66/100\n",
      "40/40 [==============================] - 5s 113ms/step - loss: 0.0010\n",
      "Epoch 67/100\n",
      "40/40 [==============================] - 5s 120ms/step - loss: 0.0014\n",
      "Epoch 68/100\n",
      "40/40 [==============================] - 5s 114ms/step - loss: 0.0011\n",
      "Epoch 69/100\n",
      "40/40 [==============================] - 5s 113ms/step - loss: 0.0011\n",
      "Epoch 70/100\n",
      "40/40 [==============================] - 5s 115ms/step - loss: 0.0012\n",
      "Epoch 71/100\n",
      "40/40 [==============================] - 5s 113ms/step - loss: 0.0011\n",
      "Epoch 72/100\n",
      "40/40 [==============================] - 5s 116ms/step - loss: 0.0011\n",
      "Epoch 73/100\n",
      "40/40 [==============================] - 4s 111ms/step - loss: 0.0011\n",
      "Epoch 74/100\n",
      "40/40 [==============================] - 5s 114ms/step - loss: 0.0011\n",
      "Epoch 75/100\n",
      "40/40 [==============================] - 4s 109ms/step - loss: 0.0011\n",
      "Epoch 76/100\n",
      "40/40 [==============================] - 4s 108ms/step - loss: 0.0011\n",
      "Epoch 77/100\n",
      "40/40 [==============================] - 4s 112ms/step - loss: 0.0011\n",
      "Epoch 78/100\n",
      "40/40 [==============================] - 5s 114ms/step - loss: 9.7538e-04\n",
      "Epoch 79/100\n",
      "40/40 [==============================] - 5s 114ms/step - loss: 0.0013\n",
      "Epoch 80/100\n",
      "40/40 [==============================] - 5s 113ms/step - loss: 9.8264e-04\n",
      "Epoch 81/100\n",
      "40/40 [==============================] - 5s 114ms/step - loss: 0.0011\n",
      "Epoch 82/100\n",
      "40/40 [==============================] - 5s 113ms/step - loss: 0.0011\n",
      "Epoch 83/100\n",
      "40/40 [==============================] - 5s 113ms/step - loss: 0.0012\n",
      "Epoch 84/100\n",
      "40/40 [==============================] - 5s 115ms/step - loss: 0.0012\n",
      "Epoch 85/100\n",
      "40/40 [==============================] - 4s 105ms/step - loss: 0.0010\n",
      "Epoch 86/100\n",
      "40/40 [==============================] - 4s 109ms/step - loss: 9.7843e-04\n",
      "Epoch 87/100\n",
      "40/40 [==============================] - 5s 115ms/step - loss: 9.6122e-04\n",
      "Epoch 88/100\n",
      "40/40 [==============================] - 4s 109ms/step - loss: 0.0010\n",
      "Epoch 89/100\n",
      "40/40 [==============================] - 4s 111ms/step - loss: 0.0011\n",
      "Epoch 90/100\n",
      "40/40 [==============================] - 4s 109ms/step - loss: 0.0010\n",
      "Epoch 91/100\n",
      "40/40 [==============================] - 4s 110ms/step - loss: 9.0112e-04\n",
      "Epoch 92/100\n",
      "40/40 [==============================] - 4s 107ms/step - loss: 9.6925e-04\n",
      "Epoch 93/100\n",
      "40/40 [==============================] - 5s 114ms/step - loss: 9.8987e-04\n",
      "Epoch 94/100\n",
      "40/40 [==============================] - 5s 115ms/step - loss: 0.0011\n",
      "Epoch 95/100\n",
      "40/40 [==============================] - 4s 108ms/step - loss: 0.0010\n",
      "Epoch 96/100\n",
      "40/40 [==============================] - 4s 107ms/step - loss: 0.0010 0s - los\n",
      "Epoch 97/100\n",
      "40/40 [==============================] - 5s 114ms/step - loss: 8.6656e-04\n",
      "Epoch 98/100\n",
      "40/40 [==============================] - 5s 112ms/step - loss: 9.1856e-04\n",
      "Epoch 99/100\n"
     ]
    },
    {
     "name": "stdout",
     "output_type": "stream",
     "text": [
      "40/40 [==============================] - 4s 108ms/step - loss: 8.0807e-04\n",
      "Epoch 100/100\n",
      "40/40 [==============================] - 4s 111ms/step - loss: 0.0010\n"
     ]
    },
    {
     "data": {
      "text/plain": [
       "<keras.callbacks.History at 0x1bc7befb1c0>"
      ]
     },
     "execution_count": 20,
     "metadata": {},
     "output_type": "execute_result"
    }
   ],
   "source": [
    "# Initialising the RNN\n",
    "regressor = Sequential()\n",
    "\n",
    "# Adding the first LSTM layer and some Dropout regularisation\n",
    "regressor.add(LSTM(units = 50, return_sequences = True, input_shape = (X_train.shape[1], 1)))\n",
    "regressor.add(Dropout(0.2))\n",
    "\n",
    "# Adding a second LSTM layer and some Dropout regularisation\n",
    "regressor.add(LSTM(units = 50, return_sequences = True))\n",
    "regressor.add(Dropout(0.2))\n",
    "\n",
    "# Adding a third LSTM layer and some Dropout regularisation\n",
    "regressor.add(LSTM(units = 50, return_sequences = True))\n",
    "regressor.add(Dropout(0.2))\n",
    "\n",
    "# Adding a fourth LSTM layer and some Dropout regularisation\n",
    "regressor.add(LSTM(units = 50))\n",
    "regressor.add(Dropout(0.2))\n",
    "\n",
    "# Adding the output layer\n",
    "regressor.add(Dense(units = 1))\n",
    "\n",
    "# Compiling the RNN\n",
    "regressor.compile(optimizer = 'adam', loss = 'mean_squared_error')\n",
    "\n",
    "# Fitting the RNN to the Training set\n",
    "regressor.fit(X_train, y_train, epochs = 100, batch_size = 32)"
   ]
  },
  {
   "cell_type": "code",
   "execution_count": 28,
   "id": "cef64125",
   "metadata": {},
   "outputs": [],
   "source": [
    "# Getting the predicted stock price\n",
    "dataset_total = np.concatenate((train_data, test_data))\n",
    "dataset_total = pd.DataFrame(dataset_total)\n",
    "inputs = dataset_total[len(dataset_total) - len(test_data) - 60:].values\n",
    "inputs = inputs.reshape(-1,1)\n",
    "inputs = sc.transform(inputs)"
   ]
  },
  {
   "cell_type": "code",
   "execution_count": 29,
   "id": "c30bb03c",
   "metadata": {},
   "outputs": [],
   "source": [
    "X_test = []\n",
    "for i in range(60, test_size):\n",
    "    X_test.append(inputs[i-60:i, 0])\n",
    "X_test = np.array(X_test)\n",
    "X_test = np.reshape(X_test, (X_test.shape[0], X_test.shape[1], 1))\n",
    "predicted_stock_price = regressor.predict(X_test)\n",
    "predicted_stock_price = sc.inverse_transform(predicted_stock_price)"
   ]
  },
  {
   "cell_type": "code",
   "execution_count": 31,
   "id": "adc80512",
   "metadata": {},
   "outputs": [
    {
     "data": {
      "image/png": "[encoded data removed]",
      "text/plain": [
       "<Figure size 432x288 with 1 Axes>"
      ]
     },
     "metadata": {
      "needs_background": "light"
     },
     "output_type": "display_data"
    }
   ],
   "source": [
    "# Visualising the results\n",
    "ply.plot(test_data, color = 'red', label = 'Real Google Stock Price')\n",
    "ply.plot(predicted_stock_price, color = 'blue', label = 'Predicted Google Stock Price')\n",
    "ply.title('Google Stock Price Prediction')\n",
    "ply.xlabel('Time')\n",
    "ply.ylabel('Google Stock Price')\n",
    "ply.legend()\n",
    "ply.show()"
   ]
  },
  {
   "cell_type": "code",
   "execution_count": null,
   "id": "c3323ed9",
   "metadata": {},
   "outputs": [],
   "source": []
  }
 ],
 "metadata": {
  "kernelspec": {
   "display_name": "Python 3",
   "language": "python",
   "name": "python3"
  },
  "language_info": {
   "codemirror_mode": {
    "name": "ipython",
    "version": 3
   },
   "file_extension": ".py",
   "mimetype": "text/x-python",
   "name": "python",
   "nbconvert_exporter": "python",
   "pygments_lexer": "ipython3",
   "version": "3.8.8"
  }
 },
 "nbformat": 4,
 "nbformat_minor": 5
}
